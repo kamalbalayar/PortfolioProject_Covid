{
 "cells": [
  {
   "cell_type": "code",
   "execution_count": 3,
   "id": "5e2c1744",
   "metadata": {},
   "outputs": [],
   "source": [
    "# importing libraries \n",
    "from bs4 import BeautifulSoup\n",
    "import requests\n",
    "import smtplib\n",
    "import time\n",
    "import datetime\n"
   ]
  },
  {
   "cell_type": "code",
   "execution_count": null,
   "id": "0adb861c",
   "metadata": {},
   "outputs": [],
   "source": [
    "# connect to website #URL form amazaon and # headers from https://httpbin.org/get, its different for every computer\n",
    "URL = 'https://www.amazon.com/Two-types-people-extrapolate-incomplete/dp/B07GB4WFFB/ref=sr_1_1?crid=28KJGB99YU6ZB&keywords=data%2Banalust%2Btshirt&qid=1687283990&sprefix=data%2Banalust%2Btshirt%2Caps%2C91&sr=8-1'\n",
    "headers = {\"User-Agent\": \"Mozilla/5.0 (Macintosh; Intel Mac OS X 10_15_7) AppleWebKit/537.36 (KHTML, like Gecko) Chrome/114.0.0.0 Safari/537.36\"}\n",
    "page = requests.get(URL, headers=headers)\n",
    "\n",
    "soup1 = BeautifulSoup(page.content, \"html.parser\")\n",
    "\n",
    "soup2 = BeautifulSoup(soup1.prettify(), \"html.parser\") # prettify helps to arrange or present in beautifyl ways\n",
    "\n",
    "# print(soup2)\n",
    "title = soup2.find(id='productTitle').get_text()\n",
    "\n",
    "price = soup2.find(id='priceblock_ourprice').get_text()\n",
    "\n",
    "print(title)\n",
    "print(price) # amazon has put extra measure to protect from web scraping."
   ]
  },
  {
   "cell_type": "code",
   "execution_count": null,
   "id": "2a286b1f",
   "metadata": {},
   "outputs": [],
   "source": [
    "# amazon has put extra measure to protect from web scraping. and probably result of this will be same.\n",
    "#this is only for learning purpose.\n",
    "price = price.strip()[1:]\n",
    "title = title.strip()\n",
    "\n",
    "print(title)\n",
    "print(price)"
   ]
  },
  {
   "cell_type": "code",
   "execution_count": 49,
   "id": "063cda7b",
   "metadata": {},
   "outputs": [
    {
     "name": "stdout",
     "output_type": "stream",
     "text": [
      "2023-06-20\n"
     ]
    }
   ],
   "source": [
    "import datetime\n",
    "today = datetime.date.today()\n",
    "print(today)"
   ]
  },
  {
   "cell_type": "code",
   "execution_count": 78,
   "id": "9bcbae36",
   "metadata": {},
   "outputs": [],
   "source": [
    "import csv\n",
    "header = ['title', 'price', 'date']\n",
    "#data = [title , price, today] we were supposed use this but web scraping didnot work so i ma putting fake title and price\n",
    "data = ['Men Tshirt', '$13.99', today]\n",
    "#create csv file\n",
    "\n",
    "with open('WebScrapper.csv','w', newline='', encoding='UTF8') as f:\n",
    "    writer = csv.writer(f)\n",
    "    writer.writerow(header)\n",
    "    writer.writerow(data)\n",
    "    \n",
    "    \n"
   ]
  },
  {
   "cell_type": "code",
   "execution_count": 79,
   "id": "b9ca0af8",
   "metadata": {},
   "outputs": [
    {
     "name": "stdout",
     "output_type": "stream",
     "text": [
      "        title   price        date\n",
      "0  Men Tshirt  $13.99  2023-06-20\n"
     ]
    }
   ],
   "source": [
    "import pandas as pd\n",
    "df = pd.read_csv('WebScrapper.csv')\n",
    "print(df)"
   ]
  },
  {
   "cell_type": "code",
   "execution_count": 66,
   "id": "8cf012fe",
   "metadata": {},
   "outputs": [],
   "source": [
    "# now we are appending data to the csv\n",
    "\n",
    "with open('WebScrapper.csv','a+', newline='', encoding='UTF8') as f:\n",
    "    writer = csv.writer(f)\n",
    "    writer.writerow(data)"
   ]
  },
  {
   "cell_type": "code",
   "execution_count": 68,
   "id": "ac05e43e",
   "metadata": {},
   "outputs": [],
   "source": [
    "def check_price():\n",
    "    URL = 'https://www.amazon.com/Two-types-people-extrapolate-incomplete/dp/B07GB4WFFB/ref=sr_1_1?crid=28KJGB99YU6ZB&keywords=data%2Banalust%2Btshirt&qid=1687283990&sprefix=data%2Banalust%2Btshirt%2Caps%2C91&sr=8-1'\n",
    "    headers = {\"User-Agent\": \"Mozilla/5.0 (Macintosh; Intel Mac OS X 10_15_7) AppleWebKit/537.36 (KHTML, like Gecko) Chrome/114.0.0.0 Safari/537.36\"}\n",
    "    page = requests.get(URL, headers=headers)\n",
    "\n",
    "    soup1 = BeautifulSoup(page.content, \"html.parser\")\n",
    "\n",
    "    soup2 = BeautifulSoup(soup1.prettify(), \"html.parser\") # prettify helps to arrange or present in beautifyl ways\n",
    "\n",
    "# print(soup2)\n",
    "    title = soup2.find(id='productTitle').get_text()\n",
    "\n",
    "    price = soup2.find(id='priceblock_ourprice').get_text()\n",
    "    \n",
    "    price = price.strip()[1:]\n",
    "    title = title.strip()\n",
    "    \n",
    "    import datetime\n",
    "    today = datetime.date.today()\n",
    "    \n",
    "    import csv\n",
    "    header = ['title', 'price', 'date']\n",
    "    data = ['Men Tshirt', '$19.99', today]\n",
    "    \n",
    "    with open('WebScrapper.csv','a+', newline='', encoding='UTF8') as f:\n",
    "        writer = csv.writer(f)\n",
    "        writer.writerow(data)"
   ]
  },
  {
   "cell_type": "code",
   "execution_count": null,
   "id": "a10f0fe6",
   "metadata": {},
   "outputs": [],
   "source": [
    "while(True): # doing this problebly we get same error as ealier of \"get_text()\"\n",
    "    check_price()\n",
    "    time.sleep(5)"
   ]
  },
  {
   "cell_type": "code",
   "execution_count": 70,
   "id": "80cac485",
   "metadata": {},
   "outputs": [
    {
     "name": "stdout",
     "output_type": "stream",
     "text": [
      "        title   price        date\n",
      "0  Men Tshirt  $19.99  2023-06-20\n",
      "1  Men Tshirt  $19.99  2023-06-20\n",
      "2  Men Tshirt  $19.99  2023-06-20\n"
     ]
    }
   ],
   "source": [
    "import pandas as pd\n",
    "df = pd.read_csv('WebScrapper.csv')\n",
    "print(df)"
   ]
  },
  {
   "cell_type": "code",
   "execution_count": 81,
   "id": "46cd7521",
   "metadata": {},
   "outputs": [],
   "source": [
    "#send email\n",
    "# this dosen't work, here is how you can track of product items on amazon\n",
    "#     if (price < (14):\n",
    "#         send_mail()\n",
    "def send_mail():\n",
    "    server = smtplib.SMTP_SSL('smtp.gamil.com', 465)\n",
    "    server.ehlo()\n",
    "    #server.starttls()\n",
    "    server.ehlo()\n",
    "    server.login('abc@gmail.com', 'xxxxxxxxxx')\n",
    "    subject ='The price of Tshirt is below $15!'\n",
    "    body=\"abc, this is movement to take oppurtunity\"\n",
    "    msg = f\"subject:{subject}\\n\\n{body}\"\n",
    "    server.sendmail(\n",
    "        'abc@gmail.com', msg\n",
    "    )"
   ]
  },
  {
   "cell_type": "code",
   "execution_count": null,
   "id": "ba0e19f0",
   "metadata": {},
   "outputs": [],
   "source": []
  }
 ],
 "metadata": {
  "kernelspec": {
   "display_name": "Python 3 (ipykernel)",
   "language": "python",
   "name": "python3"
  },
  "language_info": {
   "codemirror_mode": {
    "name": "ipython",
    "version": 3
   },
   "file_extension": ".py",
   "mimetype": "text/x-python",
   "name": "python",
   "nbconvert_exporter": "python",
   "pygments_lexer": "ipython3",
   "version": "3.9.13"
  }
 },
 "nbformat": 4,
 "nbformat_minor": 5
}
